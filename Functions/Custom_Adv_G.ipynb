{
 "cells": [
  {
   "cell_type": "raw",
   "id": "ae5dbcb0-52b6-4dec-aabc-66b99fd40232",
   "metadata": {},
   "source": [
    "import math\n",
    "\n",
    "def c_adv_guiraud(tokens: str):\n",
    "    \"\"\" Calculates advanced guiraud: advanced types / sqrt(number of tokens)\n",
    "    By default, uses COCA top 2k words as frequency list of common types to\n",
    "    ignore.\n",
    "    Args:\n",
    "        tokens (str): Input string to calculate AG for\n",
    "                \n",
    "    Returns:\n",
    "        Calculated AG\n",
    "    \"\"\"\n",
    "    \n",
    "    with open(\"data/word list.txt\") as f_in:\n",
    "        wordlist = set([x.strip().lower() for x in f_in.readlines()])\n",
    "\n",
    "    if not len(tokens):\n",
    "        return 0\n",
    "\n",
    "    advanced = set()\n",
    "    for token in tokens:\n",
    "        lemma = token\n",
    "        if lemma not in wordlist:\n",
    "            advanced.add(lemma)\n",
    "    \n",
    "    return len(advanced) / math.sqrt(len(tokens))"
   ]
  }
 ],
 "metadata": {
  "kernelspec": {
   "display_name": "Python 3 (ipykernel)",
   "language": "python",
   "name": "python3"
  },
  "language_info": {
   "codemirror_mode": {
    "name": "ipython",
    "version": 3
   },
   "file_extension": ".py",
   "mimetype": "text/x-python",
   "name": "python",
   "nbconvert_exporter": "python",
   "pygments_lexer": "ipython3",
   "version": "3.10.5"
  }
 },
 "nbformat": 4,
 "nbformat_minor": 5
}
