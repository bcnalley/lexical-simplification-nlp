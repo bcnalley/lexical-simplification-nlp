{
 "cells": [
  {
   "cell_type": "code",
   "execution_count": null,
   "id": "ab2ff609-c9c6-49c6-a62c-86c0bc666ff1",
   "metadata": {},
   "outputs": [],
   "source": [
    "from numpy import mean\n",
    "from numpy import var\n",
    "from math import sqrt\n",
    "\n",
    "# function to calculate Cohen's d for independent samples\n",
    "def cohend(d1: float, d2: float):\n",
    "    \"\"\" Calculates Cohen's d effect size\n",
    "    Args:\n",
    "        d1:  Sample 1\n",
    "        d2:  Sample 2\n",
    "                \n",
    "    Returns:\n",
    "        Cohen's d\n",
    "    \"\"\"\n",
    "    # calculate the size of samples\n",
    "    n1, n2 = len(d1), len(d2)\n",
    "    # calculate the variance of the samples\n",
    "    s1, s2 = var(d1, ddof=1), var(d2, ddof=1)\n",
    "    # calculate the pooled standard deviation\n",
    "    s = sqrt(((n1 - 1) * s1 + (n2 - 1) * s2) / (n1 + n2 - 2))\n",
    "    # calculate the means of the samples\n",
    "    u1, u2 = mean(d1), mean(d2)\n",
    "    # calculate the effect size\n",
    "    return (u1 - u2) / s\n"
   ]
  }
 ],
 "metadata": {
  "kernelspec": {
   "display_name": "Python 3 (ipykernel)",
   "language": "python",
   "name": "python3"
  },
  "language_info": {
   "codemirror_mode": {
    "name": "ipython",
    "version": 3
   },
   "file_extension": ".py",
   "mimetype": "text/x-python",
   "name": "python",
   "nbconvert_exporter": "python",
   "pygments_lexer": "ipython3",
   "version": "3.10.5"
  }
 },
 "nbformat": 4,
 "nbformat_minor": 5
}
