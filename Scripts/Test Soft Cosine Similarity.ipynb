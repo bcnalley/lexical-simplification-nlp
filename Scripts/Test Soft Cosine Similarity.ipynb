{
 "cells": [
  {
   "cell_type": "code",
   "execution_count": 1,
   "id": "eb6b1983-d840-4121-91af-edee8bd6f3fb",
   "metadata": {},
   "outputs": [],
   "source": [
    "import spacy\n",
    "from gensim import corpora, models\n",
    "from gensim.corpora import Dictionary\n",
    "from gensim.models import TfidfModel, Word2Vec, KeyedVectors\n",
    "import gensim.downloader as api\n",
    "from gensim.similarities import SparseTermSimilarityMatrix, WordEmbeddingSimilarityIndex\n",
    "from pathlib import Path\n",
    "import pandas as pd"
   ]
  },
  {
   "cell_type": "code",
   "execution_count": 2,
   "id": "edebf459-0de8-41a6-92a0-5549f67922fc",
   "metadata": {},
   "outputs": [],
   "source": [
    "nlp = spacy.load('en_core_web_sm')"
   ]
  },
  {
   "cell_type": "code",
   "execution_count": null,
   "id": "79e6729e-6d78-4859-8f41-99d957e41a96",
   "metadata": {},
   "outputs": [],
   "source": [
    "## To download pre-trained Word2Vec\n",
    "\n",
    "#model = api.load('word2vec-google-news-300')"
   ]
  },
  {
   "cell_type": "code",
   "execution_count": 3,
   "id": "ee8a03d9-3c23-42f2-8225-49372a4b85c0",
   "metadata": {},
   "outputs": [],
   "source": [
    "## Save keyed vectors so you don't have to download model again\n",
    "#model.save('vectors.kv')\n",
    "\n",
    "wv_model = KeyedVectors.load('Data/vectors.kv')"
   ]
  },
  {
   "cell_type": "code",
   "execution_count": 4,
   "id": "7a9bed41-de27-491f-9afd-ae4a882d7f34",
   "metadata": {},
   "outputs": [],
   "source": [
    "# Index of term similarities for entire model\n",
    "termsim_index = WordEmbeddingSimilarityIndex(wv_model)"
   ]
  },
  {
   "cell_type": "markdown",
   "id": "0978de82-610f-4808-bd95-336076b90f6a",
   "metadata": {},
   "source": [
    "## Original Story"
   ]
  },
  {
   "cell_type": "code",
   "execution_count": 5,
   "id": "15d7d4b7-6271-4841-bb3a-618a75717cc1",
   "metadata": {},
   "outputs": [],
   "source": [
    "# Import text file\n",
    "with open('Data/Original/orginal text.txt') as file_object:\n",
    "    lines_o = file_object.readlines()\n",
    "    lines_o = [line.rstrip() for line in lines_o]"
   ]
  },
  {
   "cell_type": "code",
   "execution_count": 6,
   "id": "14b51481-e25d-4a5d-8d77-fc13ef6a90ba",
   "metadata": {},
   "outputs": [],
   "source": [
    "# Tokenize & lemmatizatize\n",
    "nlp = spacy.load('en_core_web_sm')\n",
    "texts_o = []\n",
    "for line in lines_o:\n",
    "    text_o = []\n",
    "    doc = nlp(line)\n",
    "    for w in doc:\n",
    "        if not w.is_punct:\n",
    "            text_o.append(w.lemma_)\n",
    "    texts_o.append(text_o)\n",
    "    \n",
    "# Create dictionary and corpus for original text\n",
    "dictionary_o = corpora.Dictionary(texts_o)\n",
    "corpus_o = [dictionary_o.doc2bow(text) for text in texts_o]"
   ]
  },
  {
   "cell_type": "markdown",
   "id": "1cb57bfb-ebee-412a-91bd-824bda14e99f",
   "metadata": {},
   "source": [
    "## Group 1 Texts"
   ]
  },
  {
   "cell_type": "code",
   "execution_count": 8,
   "id": "7f44affe-bf72-443f-b57e-f8bbba1085cb",
   "metadata": {},
   "outputs": [
    {
     "name": "stderr",
     "output_type": "stream",
     "text": [
      "100%|████████████████████████████████████████████████████████████████████████████████| 301/301 [01:50<00:00,  2.72it/s]\n",
      "100%|████████████████████████████████████████████████████████████████████████████████| 302/302 [01:01<00:00,  4.90it/s]\n",
      "100%|████████████████████████████████████████████████████████████████████████████████| 308/308 [01:03<00:00,  4.89it/s]\n",
      "100%|████████████████████████████████████████████████████████████████████████████████| 299/299 [01:00<00:00,  4.92it/s]\n",
      "100%|████████████████████████████████████████████████████████████████████████████████| 311/311 [01:03<00:00,  4.88it/s]\n"
     ]
    }
   ],
   "source": [
    "# Create empty data frame\n",
    "o1_similarity = pd.DataFrame(columns = ['Soft Cosine Similarity'])\n",
    "\n",
    "# Read in texts\n",
    "for p in Path('Data/Group 1').glob('*.txt'):\n",
    "    with p.open(encoding = 'UTF-8') as f:\n",
    "        lines_1 = f.readlines()\n",
    "        #Strip whitespaces\n",
    "        lines_1 = [line.rstrip() for line in lines_1]\n",
    "        \n",
    "        texts_1 = []\n",
    "        # tokenize & lemmatize\n",
    "        for line in lines_1:\n",
    "            text_1 = []\n",
    "            doc = nlp(line)\n",
    "            for w in doc:\n",
    "                if not w.is_punct:\n",
    "                    text_1.append(w.lemma_)\n",
    "            texts_1.append(text_1)\n",
    "        \n",
    "        # Create a dictionary\n",
    "        dictionary = corpora.Dictionary(texts_o)\n",
    "        dictionary.add_documents(texts_1)\n",
    "        # Create corpus from dictionary\n",
    "        corpus_1 = [dictionary.doc2bow(text) for text in texts_1]\n",
    "        o1_corpus = corpus_o + corpus_1\n",
    "        # TF-IDF weighting\n",
    "        o1_tfidf = TfidfModel(o1_corpus)\n",
    "        tfidf_o = o1_tfidf[corpus_o]\n",
    "        tfidf_1 = o1_tfidf[corpus_1]\n",
    "        \n",
    "        # Matrix of similarities\n",
    "        termsim_matrix = SparseTermSimilarityMatrix(termsim_index, dictionary, o1_tfidf)\n",
    "        # Compute and sum similarities\n",
    "        sim_sum = 0\n",
    "        similarity_db = []\n",
    "        for i in range(len(tfidf_1)):\n",
    "            similarity = termsim_matrix.inner_product(tfidf_o[i], tfidf_1[i], normalized=(True, True))\n",
    "            sim_sum += similarity\n",
    "        # Take average similarity score for each text\n",
    "        one_sim_avg = sim_sum / len(tfidf_1)\n",
    "        similarity_db.append(one_sim_avg)\n",
    "        o1_similarity.loc[len(o1_similarity)] = similarity_db"
   ]
  },
  {
   "cell_type": "code",
   "execution_count": 9,
   "id": "88f164ed-b89d-4f2d-9ac1-8f66258d3a7e",
   "metadata": {},
   "outputs": [],
   "source": [
    "# Save similarity scores for future use\n",
    "o1_similarity.to_csv(r'Data/o1_similarity.csv')"
   ]
  },
  {
   "cell_type": "code",
   "execution_count": 10,
   "id": "8676b29e-bca3-4b91-baf4-72bc5314f183",
   "metadata": {},
   "outputs": [
    {
     "name": "stdout",
     "output_type": "stream",
     "text": [
      "   Soft Cosine Similarity\n",
      "0                0.535799\n",
      "1                0.521865\n",
      "2                0.552429\n",
      "3                0.598369\n",
      "4                0.568851\n"
     ]
    }
   ],
   "source": [
    "print(o1_similarity)"
   ]
  },
  {
   "cell_type": "code",
   "execution_count": 11,
   "id": "47bdeb8f-57f9-4113-aefc-55bdf1c3b163",
   "metadata": {},
   "outputs": [
    {
     "name": "stdout",
     "output_type": "stream",
     "text": [
      "Soft Cosine Similarity    0.555463\n",
      "dtype: float64\n"
     ]
    }
   ],
   "source": [
    "# Average group-wise similarity\n",
    "o1_mean = o1_similarity.mean()\n",
    "print(o1_mean)"
   ]
  },
  {
   "cell_type": "markdown",
   "id": "e427b4c6-0acd-4006-acc8-9493946a4e81",
   "metadata": {},
   "source": [
    "## Group 2 Texts"
   ]
  },
  {
   "cell_type": "code",
   "execution_count": 13,
   "id": "bc2bf9e0-a8a7-4a42-ba7e-df21a8ebde62",
   "metadata": {},
   "outputs": [
    {
     "name": "stderr",
     "output_type": "stream",
     "text": [
      "100%|████████████████████████████████████████████████████████████████████████████████| 304/304 [01:02<00:00,  4.86it/s]\n",
      "100%|████████████████████████████████████████████████████████████████████████████████| 304/304 [01:03<00:00,  4.78it/s]\n",
      "100%|████████████████████████████████████████████████████████████████████████████████| 306/306 [01:03<00:00,  4.80it/s]\n",
      "100%|████████████████████████████████████████████████████████████████████████████████| 306/306 [01:03<00:00,  4.81it/s]\n",
      "100%|████████████████████████████████████████████████████████████████████████████████| 317/317 [01:05<00:00,  4.84it/s]\n"
     ]
    }
   ],
   "source": [
    "# Create empty data frame\n",
    "o2_similarity = pd.DataFrame(columns = ['Soft Cosine Similarity'])\n",
    "\n",
    "# Read in texts\n",
    "for p in Path('Data/Group 2').glob('*.txt'):\n",
    "    with p.open(encoding = 'UTF-8') as f:\n",
    "        lines_2 = f.readlines()\n",
    "        #Strip whitespaces\n",
    "        lines_2 = [line.rstrip() for line in lines_2]\n",
    "        \n",
    "        texts_2 = []\n",
    "        # tokenize & lemmatize\n",
    "        for line in lines_2:\n",
    "            text_2 = []\n",
    "            doc = nlp(line)\n",
    "            for w in doc:\n",
    "                if not w.is_punct:\n",
    "                    text_2.append(w.lemma_)\n",
    "            texts_2.append(text_2)\n",
    "        \n",
    "        # Create a dictionary\n",
    "        dictionary = corpora.Dictionary(texts_o)\n",
    "        dictionary.add_documents(texts_2)\n",
    "        # Create corpus from dictionary\n",
    "        corpus_2 = [dictionary.doc2bow(text) for text in texts_2]\n",
    "        o2_corpus = corpus_o + corpus_2\n",
    "        # TF-IDF weighting\n",
    "        o2_tfidf = TfidfModel(o2_corpus)\n",
    "        tfidf_o = o2_tfidf[corpus_o]\n",
    "        tfidf_2 = o2_tfidf[corpus_2]\n",
    "        \n",
    "        # Matrix of similarities\n",
    "        termsim_matrix = SparseTermSimilarityMatrix(termsim_index, dictionary, o2_tfidf)\n",
    "        # Compute and sum similarities\n",
    "        sim_sum = 0\n",
    "        similarity_db = []\n",
    "        for i in range(len(tfidf_2)):\n",
    "            similarity = termsim_matrix.inner_product(tfidf_o[i], tfidf_2[i], normalized=(True, True))\n",
    "            sim_sum += similarity\n",
    "        # Take average similarity score for each text\n",
    "        two_sim_avg = sim_sum / len(tfidf_2)\n",
    "        similarity_db.append(two_sim_avg)\n",
    "        o2_similarity.loc[len(o2_similarity)] = similarity_db"
   ]
  },
  {
   "cell_type": "code",
   "execution_count": 14,
   "id": "cac5fa52-e8ad-4cd5-afc1-d61fcae0365e",
   "metadata": {},
   "outputs": [],
   "source": [
    "# Save similarity scores for future use\n",
    "o2_similarity.to_csv(r'Data/o2_similarity.csv')"
   ]
  },
  {
   "cell_type": "code",
   "execution_count": 15,
   "id": "34930631-5aaf-4b29-abb2-ce9ab3ccbf27",
   "metadata": {},
   "outputs": [
    {
     "name": "stdout",
     "output_type": "stream",
     "text": [
      "   Soft Cosine Similarity\n",
      "0                0.544813\n",
      "1                0.547622\n",
      "2                0.574818\n",
      "3                0.560245\n",
      "4                0.570318\n"
     ]
    }
   ],
   "source": [
    "print(o2_similarity)"
   ]
  },
  {
   "cell_type": "code",
   "execution_count": 16,
   "id": "dbaaf587-f419-4b67-9c6e-b0ac036fe5b4",
   "metadata": {},
   "outputs": [
    {
     "name": "stdout",
     "output_type": "stream",
     "text": [
      "Soft Cosine Similarity    0.559564\n",
      "dtype: float64\n"
     ]
    }
   ],
   "source": [
    "# Average group-wise similarity\n",
    "o2_mean = o2_similarity.mean()\n",
    "print(o2_mean)"
   ]
  },
  {
   "cell_type": "markdown",
   "id": "dd86f04b-0ff6-4024-8617-e464d223dde5",
   "metadata": {},
   "source": [
    "## Synonym-Only Benchmark"
   ]
  },
  {
   "cell_type": "code",
   "execution_count": 17,
   "id": "fce454d9-8005-411a-8b3e-d391c8603072",
   "metadata": {},
   "outputs": [],
   "source": [
    "with open('Data/Synonyms.txt') as file_object:\n",
    "    lines_syn = file_object.readlines()\n",
    "    lines_syn = [line.rstrip() for line in lines_syn]\n",
    "    \n",
    "texts_syn = []\n",
    "for line in lines_syn:\n",
    "    text_syn = []\n",
    "    doc = nlp(line)\n",
    "    for w in doc:\n",
    "        if not w.is_punct:\n",
    "            text_syn.append(w.lemma_)\n",
    "    texts_syn.append(text_syn)\n",
    "\n",
    "dictionary = corpora.Dictionary(texts_o)\n",
    "dictionary.add_documents(texts_syn)\n",
    "corpus_syn = [dictionary.doc2bow(text) for text in texts_syn]\n",
    "osyn_corpus = corpus_o + corpus_syn\n",
    "osyn_tfidf = TfidfModel(osyn_corpus)\n",
    "tfidf_o = osyn_tfidf[corpus_o]\n",
    "tfidf_syn = osyn_tfidf[corpus_syn]"
   ]
  },
  {
   "cell_type": "code",
   "execution_count": 18,
   "id": "fa79f028-a0e7-452d-aa1d-356b8730b8d5",
   "metadata": {},
   "outputs": [
    {
     "name": "stderr",
     "output_type": "stream",
     "text": [
      "100%|████████████████████████████████████████████████████████████████████████████████| 307/307 [01:07<00:00,  4.57it/s]\n"
     ]
    }
   ],
   "source": [
    "termsim_matrix = SparseTermSimilarityMatrix(termsim_index, dictionary, osyn_tfidf)"
   ]
  },
  {
   "cell_type": "code",
   "execution_count": 19,
   "id": "3b3d2700-e9fa-4113-89d0-b22b8e30c165",
   "metadata": {},
   "outputs": [],
   "source": [
    "sim_sum = 0\n",
    "for i in range(len(tfidf_syn)):\n",
    "    similarity = termsim_matrix.inner_product(tfidf_o[i], tfidf_syn[i], normalized=(True, True))\n",
    "    sim_sum += similarity\n",
    "syn_sim_avg = sim_sum / len(tfidf_syn)"
   ]
  },
  {
   "cell_type": "code",
   "execution_count": 20,
   "id": "7e2587ec-ecf8-4a8a-bb23-43caa1f6eb82",
   "metadata": {},
   "outputs": [
    {
     "name": "stdout",
     "output_type": "stream",
     "text": [
      "0.6176419766812489\n"
     ]
    }
   ],
   "source": [
    "print(syn_sim_avg)"
   ]
  },
  {
   "cell_type": "markdown",
   "id": "adf47b7e-2eff-48e1-a345-6cd61a347f69",
   "metadata": {},
   "source": [
    "## Princess and the Pea Benchmark"
   ]
  },
  {
   "cell_type": "code",
   "execution_count": 21,
   "id": "8f35d67a-989a-45a8-ba2b-c6f99e19d0f6",
   "metadata": {},
   "outputs": [],
   "source": [
    "with open('Data/Princess and Pea.txt') as file_object:\n",
    "    lines_pea = file_object.readlines()\n",
    "    lines_pea = [line.rstrip() for line in lines_pea]\n",
    "    \n",
    "texts_pea = []\n",
    "for line in lines_pea:\n",
    "    text_pea = []\n",
    "    doc = nlp(line)\n",
    "    for w in doc:\n",
    "        if not w.is_punct:\n",
    "            text_pea.append(w.lemma_)\n",
    "    texts_pea.append(text_pea)\n",
    "\n",
    "dictionary = corpora.Dictionary(texts_o)\n",
    "dictionary.add_documents(texts_pea)\n",
    "corpus_pea = [dictionary.doc2bow(text) for text in texts_pea]\n",
    "opea_corpus = corpus_o + corpus_pea\n",
    "opea_tfidf = TfidfModel(opea_corpus)\n",
    "tfidf_o = opea_tfidf[corpus_o]\n",
    "tfidf_pea = osyn_tfidf[corpus_pea]"
   ]
  },
  {
   "cell_type": "code",
   "execution_count": 22,
   "id": "36dc781d-575f-41b2-872f-48852e07f6ad",
   "metadata": {},
   "outputs": [
    {
     "name": "stderr",
     "output_type": "stream",
     "text": [
      "100%|████████████████████████████████████████████████████████████████████████████████| 331/331 [01:12<00:00,  4.58it/s]\n"
     ]
    }
   ],
   "source": [
    "termsim_matrix = SparseTermSimilarityMatrix(termsim_index, dictionary, opea_tfidf)"
   ]
  },
  {
   "cell_type": "code",
   "execution_count": 23,
   "id": "bc1fd47d-ab09-455f-81db-b19b30d808f3",
   "metadata": {},
   "outputs": [],
   "source": [
    "sim_sum = 0\n",
    "for i in range(len(tfidf_pea)):\n",
    "    similarity = termsim_matrix.inner_product(tfidf_o[i], tfidf_pea[i], normalized=(True, True))\n",
    "    sim_sum += similarity\n",
    "pea_sim_avg = sim_sum / len(tfidf_pea)"
   ]
  },
  {
   "cell_type": "code",
   "execution_count": 24,
   "id": "4d51e063-5936-4306-b327-3c3ec63918b9",
   "metadata": {},
   "outputs": [
    {
     "name": "stdout",
     "output_type": "stream",
     "text": [
      "0.11051805293495168\n"
     ]
    }
   ],
   "source": [
    "print(pea_sim_avg)"
   ]
  },
  {
   "cell_type": "markdown",
   "id": "d47b2a38-97bd-44a5-a06c-e5688868a49b",
   "metadata": {},
   "source": [
    "## Similarity Scores Box Plot"
   ]
  },
  {
   "cell_type": "code",
   "execution_count": 25,
   "id": "2ec68905-40cd-4788-a65c-58e015c85b8d",
   "metadata": {},
   "outputs": [],
   "source": [
    "import matplotlib.pyplot as plt\n",
    "import PIL\n",
    "import seaborn as sns"
   ]
  },
  {
   "cell_type": "code",
   "execution_count": 26,
   "id": "b589160b-46e2-4052-a61f-5897eb4e7802",
   "metadata": {},
   "outputs": [],
   "source": [
    "o1_similarity = pd.read_csv('Data/o1_similarity.csv')\n",
    "o2_similarity = pd.read_csv('Data/o2_similarity.csv')"
   ]
  },
  {
   "cell_type": "code",
   "execution_count": 30,
   "id": "061b3c73-4615-4646-8b9a-9c83b6a63744",
   "metadata": {},
   "outputs": [
    {
     "data": {
      "image/png": "[encoded data removed]",
      "text/plain": [
       "<Figure size 1800x1200 with 1 Axes>"
      ]
     },
     "metadata": {},
     "output_type": "display_data"
    }
   ],
   "source": [
    "fig, ax = plt.subplots()\n",
    "sns.set_style('darkgrid')\n",
    "sns.set_palette('deep')\n",
    "plt.rcParams['figure.dpi'] = 300\n",
    "ax.boxplot([o1_similarity['Soft Cosine Similarity'],o2_similarity['Soft Cosine Similarity']], patch_artist = True, meanline = True, showmeans = True, widths = (0.5, 0.5))\n",
    "plt.axhline(syn_sim_avg, c='r', label='Original Story with Synonyms')\n",
    "plt.axhline(pea_sim_avg, c='b', label='Unrelated Story')\n",
    "plt.xticks([1,2], ['Group 1', 'Group 2'])\n",
    "plt.ylabel('Soft Cosine Similarity')\n",
    "plt.ylim([0.1, 1.0])\n",
    "fig.legend(bbox_to_anchor=(0, 1, 1, 0), loc=\"lower right\", mode=\"expand\")\n",
    "plt.show()\n",
    "\n",
    "fig.savefig('Plots/SCS.png', bbox_inches=\"tight\")"
   ]
  }
 ],
 "metadata": {
  "kernelspec": {
   "display_name": "Python 3 (ipykernel)",
   "language": "python",
   "name": "python3"
  },
  "language_info": {
   "codemirror_mode": {
    "name": "ipython",
    "version": 3
   },
   "file_extension": ".py",
   "mimetype": "text/x-python",
   "name": "python",
   "nbconvert_exporter": "python",
   "pygments_lexer": "ipython3",
   "version": "3.10.5"
  }
 },
 "nbformat": 4,
 "nbformat_minor": 5
}
